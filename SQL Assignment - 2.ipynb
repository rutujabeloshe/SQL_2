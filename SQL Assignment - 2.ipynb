{
 "cells": [
  {
   "cell_type": "code",
   "execution_count": 1,
   "id": "f60e5a15",
   "metadata": {},
   "outputs": [
    {
     "name": "stdout",
     "output_type": "stream",
     "text": [
      "DataFrame with Username extracted:\n",
      "                  email_address          Username\n",
      "0          john.doe@example.com          john.doe\n",
      "1        jane.smith@example.com        jane.smith\n",
      "2  alice.wonderland@example.com  alice.wonderland\n",
      "\n",
      "dim_Customer DataFrame after dropping columns with lots of Null values:\n",
      "   col1  col2  col3\n",
      "0   1.0   NaN     1\n",
      "1   2.0   2.0     2\n",
      "2   NaN   3.0     3\n",
      "3   4.0   NaN     4\n",
      "4   5.0   5.0     5\n"
     ]
    }
   ],
   "source": [
    "import pandas as pd\n",
    "\n",
    "# Sample data\n",
    "data = {'email_address': ['john.doe@example.com', 'jane.smith@example.com', 'alice.wonderland@example.com']}\n",
    "\n",
    "# Create a DataFrame\n",
    "df = pd.DataFrame(data)\n",
    "\n",
    "# Extract username from email address\n",
    "df['Username'] = df['email_address'].str.split('@').str[0]\n",
    "\n",
    "# Display the updated DataFrame\n",
    "print(\"DataFrame with Username extracted:\")\n",
    "print(df)\n",
    "print()\n",
    "\n",
    "# Now, let's assume `dim_Customer` is another DataFrame where you want to drop columns with lots of null values.\n",
    "# For demonstration purposes, let's create a dummy DataFrame `dim_Customer`.\n",
    "\n",
    "# Sample data for dim_Customer\n",
    "dim_Customer_data = {\n",
    "    'col1': [1, 2, None, 4, 5],\n",
    "    'col2': [None, 2, 3, None, 5],\n",
    "    'col3': [1, 2, 3, 4, 5]\n",
    "}\n",
    "\n",
    "# Create dim_Customer DataFrame\n",
    "dim_Customer = pd.DataFrame(dim_Customer_data)\n",
    "\n",
    "# Find columns with lots of Null values\n",
    "null_counts = dim_Customer.isnull().sum()\n",
    "columns_to_drop = null_counts[null_counts > 0.5 * len(dim_Customer)].index\n",
    "\n",
    "# Remove columns with lots of Null values\n",
    "dim_Customer.drop(columns=columns_to_drop, inplace=True)\n",
    "\n",
    "# Display the updated dim_Customer DataFrame\n",
    "print(\"dim_Customer DataFrame after dropping columns with lots of Null values:\")\n",
    "print(dim_Customer)\n"
   ]
  },
  {
   "cell_type": "code",
   "execution_count": null,
   "id": "5e327d0c",
   "metadata": {},
   "outputs": [],
   "source": []
  }
 ],
 "metadata": {
  "kernelspec": {
   "display_name": "Python 3 (ipykernel)",
   "language": "python",
   "name": "python3"
  },
  "language_info": {
   "codemirror_mode": {
    "name": "ipython",
    "version": 3
   },
   "file_extension": ".py",
   "mimetype": "text/x-python",
   "name": "python",
   "nbconvert_exporter": "python",
   "pygments_lexer": "ipython3",
   "version": "3.11.5"
  }
 },
 "nbformat": 4,
 "nbformat_minor": 5
}
